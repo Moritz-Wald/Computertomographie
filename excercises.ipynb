{
 "cells": [
  {
   "cell_type": "code",
   "id": "initial_id",
   "metadata": {
    "collapsed": true
   },
   "source": [
    "import matplotlib.pyplot as plt\n",
    "import numpy as np"
   ],
   "outputs": [],
   "execution_count": null
  },
  {
   "metadata": {},
   "cell_type": "code",
   "source": [
    "from skimage.data import shepp_logan_phantom\n",
    "from skimage.transform import rescale\n",
    "\n",
    "image = shepp_logan_phantom()\n",
    "image = rescale(image, scale=.4, mode='reflect', channel_axis=None)\n",
    "print(image.shape)"
   ],
   "id": "4e926c4171adde36",
   "outputs": [],
   "execution_count": null
  },
  {
   "metadata": {},
   "cell_type": "code",
   "source": [
    "from radon import radon\n",
    "\n",
    "angles = np.arange(0, 180, 1)\n",
    "sino = radon(image, angles=angles, method='bilinear')\n",
    "print(sino.shape)\n",
    "fig, (ax1, ax2) = plt.subplots(1, 2, figsize=(8, 4.5))\n",
    "\n",
    "ax1.set_title(\"Original\")\n",
    "ax1.imshow(image, cmap=plt.cm.Greys_r)\n",
    "dx, dy = 0.5 * 180.0 / max(image.shape), 0.5 / sino.shape[0]\n",
    "ax2.set_title(\"Radon transform\\n(Sinogram)\")\n",
    "ax2.set_xlabel(\"Projection angle (deg)\")\n",
    "ax2.set_ylabel(\"Projection position (pixels)\")\n",
    "ax2.imshow(\n",
    "    sino,\n",
    "    cmap=plt.cm.Greys_r,\n",
    "    extent=(-dx, 180.0 + dx, -dy, sino.shape[0] + dy),\n",
    "    aspect='auto',\n",
    ")\n",
    "\n",
    "fig.tight_layout()\n",
    "plt.show()"
   ],
   "id": "97543e3d1ba2aed4",
   "outputs": [],
   "execution_count": null
  },
  {
   "metadata": {},
   "cell_type": "code",
   "source": [
    "from skimage.transform import iradon\n",
    "\n",
    "curr = 1.\n",
    "for filter in ['ramp', 'shepp-logan', 'cosine', 'hamming', 'hann']:\n",
    "    reconstruction_fbp = iradon(sino, theta=angles, filter_name=filter)\n",
    "    error = reconstruction_fbp - image\n",
    "    errval = np.sqrt(np.mean(error ** 2))\n",
    "    if errval < curr:\n",
    "        best_filter = filter\n",
    "        curr = errval\n",
    "    print(f'FBP rms using {filter}-filter gives reconstruction error: {errval:.6f}')\n",
    "\n",
    "reconstruction_fbp = iradon(sino, theta=angles, filter_name=best_filter)\n",
    "\n",
    "imkwargs = dict(vmin=-0.2, vmax=0.2)\n",
    "fig, (ax1, ax2) = plt.subplots(1, 2, figsize=(8, 4.5), sharex=True, sharey=True)\n",
    "ax1.set_title(f\"Reconstruction\\nFiltered back projection\\n Filter: {best_filter}\")\n",
    "ax1.imshow(reconstruction_fbp, cmap=plt.cm.Greys_r)\n",
    "ax2.set_title(\"Reconstruction error\\nFiltered back projection\")\n",
    "ax2.imshow(reconstruction_fbp - image, cmap=plt.cm.Greys_r, **imkwargs)\n",
    "plt.show()"
   ],
   "id": "aa352c0e0256572a",
   "outputs": [],
   "execution_count": null
  },
  {
   "metadata": {},
   "cell_type": "markdown",
   "source": "# Control Comparison to SkImage",
   "id": "da0223063ff5ec54"
  },
  {
   "metadata": {},
   "cell_type": "code",
   "source": [
    "import numpy as np\n",
    "import matplotlib.pyplot as plt\n",
    "\n",
    "from skimage.data import shepp_logan_phantom\n",
    "from skimage.transform import radon, rescale\n",
    "\n",
    "image = shepp_logan_phantom()\n",
    "image = rescale(image, scale=0.4, mode='reflect', channel_axis=None)\n",
    "\n",
    "fig, (ax1, ax2) = plt.subplots(1, 2, figsize=(8, 4.5))\n",
    "\n",
    "ax1.set_title(\"Original\")\n",
    "ax1.imshow(image, cmap=plt.cm.Greys_r)\n",
    "\n",
    "theta = np.linspace(0.0, 180.0, max(image.shape), endpoint=False)\n",
    "sinogram = radon(image, theta=theta)\n",
    "dx, dy = 0.5 * 180.0 / max(image.shape), 0.5 / sinogram.shape[0]\n",
    "ax2.set_title(\"Radon transform\\n(Sinogram)\")\n",
    "ax2.set_xlabel(\"Projection angle (deg)\")\n",
    "ax2.set_ylabel(\"Projection position (pixels)\")\n",
    "ax2.imshow(\n",
    "    sinogram,\n",
    "    cmap=plt.cm.Greys_r,\n",
    "    extent=(-dx, 180.0 + dx, -dy, sinogram.shape[0] + dy),\n",
    "    aspect='auto',\n",
    ")\n",
    "\n",
    "fig.tight_layout()\n",
    "plt.show()"
   ],
   "id": "49f396cb0844f192",
   "outputs": [],
   "execution_count": null
  },
  {
   "metadata": {},
   "cell_type": "code",
   "source": [
    "from skimage.transform import iradon\n",
    "\n",
    "reconstruction_fbp = iradon(sinogram, theta=theta, filter_name='ramp')\n",
    "error = reconstruction_fbp - image\n",
    "print(f'FBP rms reconstruction error: {np.sqrt(np.mean(error**2)):.3g}')\n",
    "\n",
    "imkwargs = dict(vmin=-0.2, vmax=0.2)\n",
    "fig, (ax1, ax2) = plt.subplots(1, 2, figsize=(8, 4.5), sharex=True, sharey=True)\n",
    "ax1.set_title(\"Reconstruction\\nFiltered back projection\")\n",
    "ax1.imshow(reconstruction_fbp, cmap=plt.cm.Greys_r)\n",
    "ax2.set_title(\"Reconstruction error\\nFiltered back projection\")\n",
    "ax2.imshow(reconstruction_fbp - image, cmap=plt.cm.Greys_r, **imkwargs)\n",
    "plt.show()"
   ],
   "id": "f8e4ff97f930187b",
   "outputs": [],
   "execution_count": null
  }
 ],
 "metadata": {
  "kernelspec": {
   "display_name": "gamma",
   "language": "python",
   "name": "gamma"
  },
  "language_info": {
   "codemirror_mode": {
    "name": "ipython",
    "version": 2
   },
   "file_extension": ".py",
   "mimetype": "text/x-python",
   "name": "python",
   "nbconvert_exporter": "python",
   "pygments_lexer": "ipython2",
   "version": "2.7.6"
  }
 },
 "nbformat": 4,
 "nbformat_minor": 5
}
